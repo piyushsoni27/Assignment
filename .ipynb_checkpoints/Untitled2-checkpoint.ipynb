{
 "cells": [
  {
   "cell_type": "code",
   "execution_count": 1,
   "metadata": {
    "collapsed": true
   },
   "outputs": [],
   "source": [
    "import pandas as pd\n",
    "import numpy as np\n",
    "import matplotlib.pyplot as plt\n",
    "import seaborn as sns\n",
    "\n",
    "from ipywidgets import widgets, interactive\n",
    "\n",
    "%matplotlib inline"
   ]
  },
  {
   "cell_type": "code",
   "execution_count": 95,
   "metadata": {},
   "outputs": [],
   "source": [
    "salesperson_df = pd.read_excel(\"African Mobile Data.xlsx\", sheetname=\"SalespersonData\")\n",
    "\n",
    "person = widgets.Dropdown(\n",
    "    options = list(salesperson_df.Salesperson.unique()),\n",
    "    value=salesperson_df.Salesperson[0],\n",
    "    description='Person:',\n",
    ")\n",
    "\n",
    "other_person = widgets.Dropdown(\n",
    "    options = list(salesperson_df.Salesperson.unique()),\n",
    "    value=salesperson_df.Salesperson[1],\n",
    "    description='Other Person:',\n",
    ")\n",
    "\n",
    "def plot_dropdown(person, other_person):\n",
    "    \n",
    "    df2 = salesperson_df.copy()\n",
    "    \n",
    "    df = df2.groupby(\"Salesperson\")[\"Contracts Sold\"].sum()\n",
    "    \n",
    "    fig, ax = plt.subplots(figsize = (20,5), nrows = 1, ncols=2, sharey=True)\n",
    "    \n",
    "    ax[0].tick_params(labelcolor=(1.,1.,1., 0.0), top='off', bottom='off', left='off', right='off')\n",
    "        \n",
    "    ax1 = fig.add_subplot(121)\n",
    "    ax1.set_title(\"Contracts Sold by each Sales persons\")\n",
    "    ax1.set_ylabel(\"Contracts Sold\")\n",
    "    df.plot(kind=\"bar\")\n",
    "\n",
    "    df = df - df[other_person]\n",
    "    bool_val = df>0\n",
    "    \n",
    "    ax2 = fig.add_subplot(122)\n",
    "    if(person == other_person):\n",
    "        ax2.set_title(\"Please select different persons!\")\n",
    "    else:\n",
    "        title = \"Difference from \" + str(other_person)\n",
    "        ax2.set_title(title)\n",
    "        ax2.set_ylabel(\"Contracts Sold\")\n",
    "        df.plot(kind='bar', color=bool_val.map({True: 'b', False: 'r'}))\n",
    "    \n",
    "    return"
   ]
  },
  {
   "cell_type": "code",
   "execution_count": 96,
   "metadata": {
    "scrolled": true
   },
   "outputs": [
    {
     "data": {
      "application/vnd.jupyter.widget-view+json": {
       "model_id": "e81ec7e0cd6a4c5799bee76638fe1e4f",
       "version_major": 2,
       "version_minor": 0
      },
      "text/plain": [
       "A Jupyter Widget"
      ]
     },
     "metadata": {},
     "output_type": "display_data"
    }
   ],
   "source": [
    "interactive(plot_dropdown, person=person, other_person=other_person)"
   ]
  },
  {
   "cell_type": "code",
   "execution_count": null,
   "metadata": {
    "collapsed": true
   },
   "outputs": [],
   "source": []
  }
 ],
 "metadata": {
  "kernelspec": {
   "display_name": "Python 3",
   "language": "python",
   "name": "python3"
  },
  "language_info": {
   "codemirror_mode": {
    "name": "ipython",
    "version": 3
   },
   "file_extension": ".py",
   "mimetype": "text/x-python",
   "name": "python",
   "nbconvert_exporter": "python",
   "pygments_lexer": "ipython3",
   "version": "3.6.3"
  }
 },
 "nbformat": 4,
 "nbformat_minor": 2
}
