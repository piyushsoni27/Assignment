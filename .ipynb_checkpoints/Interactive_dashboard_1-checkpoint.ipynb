{
 "cells": [
  {
   "cell_type": "code",
   "execution_count": 1,
   "metadata": {
    "collapsed": true
   },
   "outputs": [],
   "source": [
    "import pandas as pd\n",
    "import numpy as np\n",
    "import matplotlib.pyplot as plt\n",
    "import seaborn as sns\n",
    "\n",
    "from ipywidgets import widgets, interactive\n",
    "\n",
    "%matplotlib inline"
   ]
  },
  {
   "cell_type": "code",
   "execution_count": 2,
   "metadata": {
    "collapsed": true
   },
   "outputs": [],
   "source": [
    "salesperson_df = pd.read_excel(\"African Mobile Data.xlsx\", sheetname=\"SalespersonData\")\n",
    "sales_df = pd.read_excel(\"African Mobile Data.xlsx\", sheetname=\"SalesData\")\n",
    "\n",
    "sales_df[\"time_ms\"]=sales_df.Date.astype(np.int64)//10**6\n",
    "\n",
    "city = widgets.Dropdown(\n",
    "    options = list(sales_df.City.unique()),\n",
    "    value=\"Abidjan\",\n",
    "    description='City:',\n",
    ")\n",
    "\n",
    "def plot_dropdown(city):\n",
    "    \n",
    "    df2 = sales_df.copy()\n",
    "    df2 = df2.loc[df2.City == city]\n",
    "        \n",
    "    fig, ax = plt.subplots(figsize=(10,4))\n",
    "    \n",
    "    for key,grp in df2.groupby('Segment'):\n",
    "        plt.plot(grp.Date, grp.Profit,'o-',label = key)\n",
    "        plt.legend(loc = 'best')\n",
    "    \n",
    "    plt.show()\n"
   ]
  },
  {
   "cell_type": "code",
   "execution_count": 3,
   "metadata": {
    "scrolled": true
   },
   "outputs": [
    {
     "data": {
      "application/vnd.jupyter.widget-view+json": {
       "model_id": "456ee493d00f4ad2a4b7062fc674751c",
       "version_major": 2,
       "version_minor": 0
      },
      "text/plain": [
       "A Jupyter Widget"
      ]
     },
     "metadata": {},
     "output_type": "display_data"
    }
   ],
   "source": [
    "interactive(plot_dropdown, city=city)"
   ]
  },
  {
   "cell_type": "code",
   "execution_count": null,
   "metadata": {
    "collapsed": true
   },
   "outputs": [],
   "source": []
  },
  {
   "cell_type": "code",
   "execution_count": null,
   "metadata": {
    "collapsed": true
   },
   "outputs": [],
   "source": []
  },
  {
   "cell_type": "code",
   "execution_count": null,
   "metadata": {
    "collapsed": true
   },
   "outputs": [],
   "source": []
  },
  {
   "cell_type": "code",
   "execution_count": null,
   "metadata": {
    "collapsed": true
   },
   "outputs": [],
   "source": []
  }
 ],
 "metadata": {
  "kernelspec": {
   "display_name": "Python 3",
   "language": "python",
   "name": "python3"
  },
  "language_info": {
   "codemirror_mode": {
    "name": "ipython",
    "version": 3
   },
   "file_extension": ".py",
   "mimetype": "text/x-python",
   "name": "python",
   "nbconvert_exporter": "python",
   "pygments_lexer": "ipython3",
   "version": "3.6.3"
  }
 },
 "nbformat": 4,
 "nbformat_minor": 2
}
